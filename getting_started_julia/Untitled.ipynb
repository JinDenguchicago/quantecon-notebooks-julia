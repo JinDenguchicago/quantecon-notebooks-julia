{
 "cells": [
  {
   "cell_type": "code",
   "execution_count": 3,
   "metadata": {},
   "outputs": [],
   "source": [
    "]"
   ]
  },
  {
   "cell_type": "code",
   "execution_count": 4,
   "metadata": {},
   "outputs": [
    {
     "name": "stderr",
     "output_type": "stream",
     "text": [
      "\u001b[32m\u001b[1m   Updating\u001b[22m\u001b[39m registry at `~/.julia/registries/General`\n"
     ]
    },
    {
     "name": "stdout",
     "output_type": "stream",
     "text": [
      "\u001b[?25l\u001b[2K"
     ]
    },
    {
     "name": "stderr",
     "output_type": "stream",
     "text": [
      "\u001b[32m\u001b[1m   Updating\u001b[22m\u001b[39m git-repo `https://github.com/JuliaRegistries/General.git`\n"
     ]
    },
    {
     "name": "stdout",
     "output_type": "stream",
     "text": [
      "\u001b[?25h"
     ]
    },
    {
     "name": "stderr",
     "output_type": "stream",
     "text": [
      "\u001b[32m\u001b[1m  Resolving\u001b[22m\u001b[39m package versions...\n"
     ]
    },
    {
     "ename": "Pkg.Types.PkgError",
     "evalue": "expected package `TimerOutputs [a759f4b9]` to exist at path `/Users/jindeng0/.julia/packages/TimerOutputs/hZYyH`",
     "output_type": "error",
     "traceback": [
      "expected package `TimerOutputs [a759f4b9]` to exist at path `/Users/jindeng0/.julia/packages/TimerOutputs/hZYyH`",
      "",
      "Stacktrace:",
      " [1] pkgerror(::String) at /Users/julia/buildbot/worker/package_macos64/build/usr/share/julia/stdlib/v1.4/Pkg/src/Types.jl:53",
      " [2] collect_fixed!(::Pkg.Types.Context, ::Array{Pkg.Types.PackageSpec,1}, ::Dict{Base.UUID,String}) at /Users/julia/buildbot/worker/package_macos64/build/usr/share/julia/stdlib/v1.4/Pkg/src/Operations.jl:276",
      " [3] resolve_versions!(::Pkg.Types.Context, ::Array{Pkg.Types.PackageSpec,1}) at /Users/julia/buildbot/worker/package_macos64/build/usr/share/julia/stdlib/v1.4/Pkg/src/Operations.jl:317",
      " [4] targeted_resolve(::Pkg.Types.Context, ::Array{Pkg.Types.PackageSpec,1}, ::Pkg.Types.PreserveLevel) at /Users/julia/buildbot/worker/package_macos64/build/usr/share/julia/stdlib/v1.4/Pkg/src/Operations.jl:1057",
      " [5] tiered_resolve(::Pkg.Types.Context, ::Array{Pkg.Types.PackageSpec,1}) at /Users/julia/buildbot/worker/package_macos64/build/usr/share/julia/stdlib/v1.4/Pkg/src/Operations.jl:1029",
      " [6] _resolve at /Users/julia/buildbot/worker/package_macos64/build/usr/share/julia/stdlib/v1.4/Pkg/src/Operations.jl:1063 [inlined]",
      " [7] add(::Pkg.Types.Context, ::Array{Pkg.Types.PackageSpec,1}, ::Array{Base.UUID,1}; preserve::Pkg.Types.PreserveLevel, platform::Pkg.BinaryPlatforms.MacOS) at /Users/julia/buildbot/worker/package_macos64/build/usr/share/julia/stdlib/v1.4/Pkg/src/Operations.jl:1078",
      " [8] add(::Pkg.Types.Context, ::Array{Pkg.Types.PackageSpec,1}; preserve::Pkg.Types.PreserveLevel, platform::Pkg.BinaryPlatforms.MacOS, kwargs::Base.Iterators.Pairs{Union{},Union{},Tuple{},NamedTuple{(),Tuple{}}}) at /Users/julia/buildbot/worker/package_macos64/build/usr/share/julia/stdlib/v1.4/Pkg/src/API.jl:159",
      " [9] add(::Pkg.Types.Context, ::Array{Pkg.Types.PackageSpec,1}) at /Users/julia/buildbot/worker/package_macos64/build/usr/share/julia/stdlib/v1.4/Pkg/src/API.jl:112",
      " [10] #add#27 at /Users/julia/buildbot/worker/package_macos64/build/usr/share/julia/stdlib/v1.4/Pkg/src/API.jl:109 [inlined]",
      " [11] add(::Array{Pkg.Types.PackageSpec,1}) at /Users/julia/buildbot/worker/package_macos64/build/usr/share/julia/stdlib/v1.4/Pkg/src/API.jl:109",
      " [12] do_cmd!(::Pkg.REPLMode.Command, ::IJulia.MiniREPL) at /Users/julia/buildbot/worker/package_macos64/build/usr/share/julia/stdlib/v1.4/Pkg/src/REPLMode/REPLMode.jl:403",
      " [13] do_cmd(::IJulia.MiniREPL, ::String; do_rethrow::Bool) at /Users/julia/buildbot/worker/package_macos64/build/usr/share/julia/stdlib/v1.4/Pkg/src/REPLMode/REPLMode.jl:381",
      " [14] top-level scope at In[4]:1"
     ]
    }
   ],
   "source": [
    "] add InstantiateFromURL\n"
   ]
  },
  {
   "cell_type": "code",
   "execution_count": 5,
   "metadata": {},
   "outputs": [
    {
     "data": {
      "text/plain": [
       "2"
      ]
     },
     "execution_count": 5,
     "metadata": {},
     "output_type": "execute_result"
    }
   ],
   "source": [
    "1+1"
   ]
  },
  {
   "cell_type": "code",
   "execution_count": 1,
   "metadata": {},
   "outputs": [
    {
     "name": "stderr",
     "output_type": "stream",
     "text": [
      "┌ Info: Precompiling Plots [91a5bcdd-55d7-5caf-9e0b-520d859cae80]\n",
      "└ @ Base loading.jl:1260\n",
      "ERROR: LoadError: LoadError: ArgumentError: Package GR does not have HTTP in its dependencies:\n",
      "- If you have GR checked out for development and have\n",
      "  added HTTP as a dependency but haven't updated your primary\n",
      "  environment's manifest file, try `Pkg.resolve()`.\n",
      "- Otherwise you may need to report an issue with GR\n",
      "Stacktrace:\n",
      " [1] require(::Module, ::Symbol) at ./loading.jl:905\n",
      " [2] include(::Module, ::String) at ./Base.jl:377\n",
      " [3] include(::String) at /Users/jindeng0/.julia/packages/GR/Atztx/src/GR.jl:3\n",
      " [4] top-level scope at /Users/jindeng0/.julia/packages/GR/Atztx/src/GR.jl:4037\n",
      " [5] include(::Module, ::String) at ./Base.jl:377\n",
      " [6] top-level scope at none:2\n",
      " [7] eval at ./boot.jl:331 [inlined]\n",
      " [8] eval(::Expr) at ./client.jl:449\n",
      " [9] top-level scope at ./none:3\n",
      "in expression starting at /Users/jindeng0/.julia/packages/GR/Atztx/src/js.jl:5\n",
      "in expression starting at /Users/jindeng0/.julia/packages/GR/Atztx/src/GR.jl:4037\n",
      "ERROR: LoadError: LoadError: Failed to precompile GR [28b8d3ca-fb5f-59d9-8090-bfdbd6d07a71] to /Users/jindeng0/.julia/compiled/v1.4/GR/NDU5Y_Oz8YJ.ji.\n",
      "Stacktrace:\n",
      " [1] error(::String) at ./error.jl:33\n",
      " [2] compilecache(::Base.PkgId, ::String) at ./loading.jl:1272\n",
      " [3] _require(::Base.PkgId) at ./loading.jl:1029\n",
      " [4] require(::Base.PkgId) at ./loading.jl:927\n",
      " [5] require(::Module, ::Symbol) at ./loading.jl:922\n",
      " [6] include(::Module, ::String) at ./Base.jl:377\n",
      " [7] include(::String) at /Users/jindeng0/.julia/packages/Plots/E3MWZ/src/Plots.jl:1\n",
      " [8] top-level scope at /Users/jindeng0/.julia/packages/Plots/E3MWZ/src/Plots.jl:217\n",
      " [9] include(::Module, ::String) at ./Base.jl:377\n",
      " [10] top-level scope at none:2\n",
      " [11] eval at ./boot.jl:331 [inlined]\n",
      " [12] eval(::Expr) at ./client.jl:449\n",
      " [13] top-level scope at ./none:3\n",
      "in expression starting at /Users/jindeng0/.julia/packages/Plots/E3MWZ/src/backends/gr.jl:6\n",
      "in expression starting at /Users/jindeng0/.julia/packages/Plots/E3MWZ/src/Plots.jl:217\n"
     ]
    },
    {
     "ename": "ErrorException",
     "evalue": "Failed to precompile Plots [91a5bcdd-55d7-5caf-9e0b-520d859cae80] to /Users/jindeng0/.julia/compiled/v1.4/Plots/ld3vC_Oz8YJ.ji.",
     "output_type": "error",
     "traceback": [
      "Failed to precompile Plots [91a5bcdd-55d7-5caf-9e0b-520d859cae80] to /Users/jindeng0/.julia/compiled/v1.4/Plots/ld3vC_Oz8YJ.ji.",
      "",
      "Stacktrace:",
      " [1] error(::String) at ./error.jl:33",
      " [2] compilecache(::Base.PkgId, ::String) at ./loading.jl:1272",
      " [3] _require(::Base.PkgId) at ./loading.jl:1029",
      " [4] require(::Base.PkgId) at ./loading.jl:927",
      " [5] require(::Module, ::Symbol) at ./loading.jl:922",
      " [6] top-level scope at In[1]:1"
     ]
    }
   ],
   "source": [
    "using Plots"
   ]
  },
  {
   "cell_type": "code",
   "execution_count": 9,
   "metadata": {},
   "outputs": [
    {
     "ename": "MethodError",
     "evalue": "MethodError: no method matching github_project(::String; version=\"0.5.0\", instantiate=true, precompile=true)\nClosest candidates are:\n  github_project(::Any; path, version, force, instantiate) at /Users/jindeng0/.julia/packages/InstantiateFromURL/2LAdQ/src/github_project.jl:32 got unsupported keyword argument \"precompile\"",
     "output_type": "error",
     "traceback": [
      "MethodError: no method matching github_project(::String; version=\"0.5.0\", instantiate=true, precompile=true)\nClosest candidates are:\n  github_project(::Any; path, version, force, instantiate) at /Users/jindeng0/.julia/packages/InstantiateFromURL/2LAdQ/src/github_project.jl:32 got unsupported keyword argument \"precompile\"",
      "",
      "Stacktrace:",
      " [1] kwerr(::NamedTuple{(:version, :instantiate, :precompile),Tuple{String,Bool,Bool}}, ::Function, ::String) at ./error.jl:157",
      " [2] top-level scope at In[9]:2"
     ]
    }
   ],
   "source": [
    "using InstantiateFromURL \n",
    "github_project(\"QuantEcon/quantecon-notebooks-julia\", version = \"0.5.0\", instantiate = true, precompile = true)"
   ]
  },
  {
   "cell_type": "code",
   "execution_count": null,
   "metadata": {},
   "outputs": [],
   "source": []
  }
 ],
 "metadata": {
  "kernelspec": {
   "display_name": "Julia 1.4.1",
   "language": "julia",
   "name": "julia-1.4"
  },
  "language_info": {
   "file_extension": ".jl",
   "mimetype": "application/julia",
   "name": "julia",
   "version": "1.4.1"
  }
 },
 "nbformat": 4,
 "nbformat_minor": 4
}
